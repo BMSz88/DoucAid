{
 "cells": [
  {
   "cell_type": "code",
   "execution_count": null,
   "metadata": {
    "vscode": {
     "languageId": "plaintext"
    }
   },
   "outputs": [],
   "source": [
    "#default commit\n",
    "# Import required libraries\n",
    "import sys\n",
    "import os\n",
    "import matplotlib.pyplot as plt\n",
    "\n",
    "# Add project root to Python path\n",
    "project_root = os.path.abspath(os.path.join(os.path.dirname(__file__), '..'))\n",
    "sys.path.insert(0, project_root)\n",
    "\n",
    "from src.inference import SummaryInference\n",
    "\n",
    "# Initialize Inference Service\n",
    "inference_service = SummaryInference()\n",
    "\n",
    "# Sample Documentation Texts\n",
    "sample_texts = [\n",
    "    \"\"\"\n",
    "    Machine learning is a method of data analysis that automates analytical model building. \n",
    "    It is a branch of artificial intelligence based on the idea that systems can learn from \n",
    "    data, identify patterns and make decisions with minimal human intervention.\n",
    "    \"\"\",\n",
    "    \"\"\"\n",
    "    Natural Language Processing (NLP) is a subfield of linguistics, computer science, \n",
    "    and artificial intelligence concerned with the interactions between computers and human language. \n",
    "    The goal is to enable computers to understand, interpret, and manipulate human language in valuable ways.\n",
    "    \"\"\"\n",
    "]\n",
    "\n",
    "# Generate Summaries and Metrics\n",
    "results = []\n",
    "\n",
    "for text in sample_texts:\n",
    "    # Generate Summary\n",
    "    summary = inference_service.generate_summary(text)\n",
    "    \n",
    "    # Evaluate Quality\n",
    "    metrics = inference_service.evaluate_summary_quality(text, summary)\n",
    "    \n",
    "    # Store Results\n",
    "    results.append({\n",
    "        'original_text': text,\n",
    "        'summary': summary,\n",
    "        'metrics': metrics\n",
    "    })\n",
    "\n",
    "# Display Results\n",
    "for result in results:\n",
    "    print(\"\\nOriginal Text:\")\n",
    "    print(result['original_text'])\n",
    "    print(\"\\nGenerated Summary:\")\n",
    "    print(result['summary'])\n",
    "    print(\"\\nSummary Metrics:\")\n",
    "    for metric, value in result['metrics'].items():\n",
    "        print(f\"{metric}: {value}\")\n",
    "    print(\"-\" * 50)"
   ]
  },
  {
   "cell_type": "markdown",
   "metadata": {},
   "source": [
    "# Inference Demonstration Notebook\n",
    "\n",
    "## Overview\n",
    "This notebook demonstrates the summary generation capabilities of the Documentation Summarization AI model.\n",
    "\n",
    "## Key Objectives\n",
    "- Showcase summary generation for different text inputs\n",
    "- Evaluate summary quality metrics\n",
    "- Illustrate the inference process"
   ]
  }
 ],
 "metadata": {
  "language_info": {
   "name": "python"
  }
 },
 "nbformat": 4,
 "nbformat_minor": 2
}
