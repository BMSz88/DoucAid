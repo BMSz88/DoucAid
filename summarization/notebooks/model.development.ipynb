{
 "cells": [
  {
   "cell_type": "code",
   "execution_count": null,
   "metadata": {
    "vscode": {
     "languageId": "plaintext"
    }
   },
   "outputs": [],
   "source": [
    "\n",
    "# Import required libraries\n",
    "import sys\n",
    "import os\n",
    "import torch\n",
    "import pandas as pd\n",
    "import matplotlib.pyplot as plt\n",
    "\n",
    "# Add project root to Python path\n",
    "project_root = os.path.abspath(os.path.join(os.path.dirname(__file__), '..'))\n",
    "sys.path.insert(0, project_root)\n",
    "\n",
    "from src.data_processor import DocumentationDataProcessor\n",
    "from src.trainer import ModelTrainer\n",
    "from src.model import DocumentationSummarizer\n",
    "\n",
    "# Data Preparation\n",
    "data_processor = DocumentationDataProcessor()\n",
    "training_data = data_processor.prepare_training_data()\n",
    "\n",
    "# Model Initialization\n",
    "summarizer = DocumentationSummarizer()\n",
    "trainer = ModelTrainer()\n",
    "\n",
    "# Training Process\n",
    "print(\"Starting Model Training...\")\n",
    "training_metrics = trainer.train(training_data)\n",
    "\n",
    "# Visualization of Training Metrics\n",
    "plt.figure(figsize=(10, 5))\n",
    "plt.plot(training_metrics['loss_history'])\n",
    "plt.title('Training Loss Over Epochs')\n",
    "plt.xlabel('Epochs')\n",
    "plt.ylabel('Loss')\n",
    "plt.tight_layout()\n",
    "plt.savefig('training_loss.png')\n",
    "plt.close()\n",
    "\n",
    "# Model Evaluation\n",
    "print(\"\\nTraining Metrics:\")\n",
    "print(training_metrics)\n",
    "\n",
    "# Save Trained Model\n",
    "trainer.save_model()"
   ]
  },
  {
   "cell_type": "markdown",
   "metadata": {},
   "source": [
    "# Model Development Notebook\n",
    "\n",
    "## Overview\n",
    "This notebook demonstrates the process of developing and training the Documentation Summarization AI model.\n",
    "\n",
    "## Key Steps\n",
    "- Data Preparation\n",
    "- Model Initialization\n",
    "- Training Process\n",
    "- Performance Visualization"
   ]
  }
 ],
 "metadata": {
  "language_info": {
   "name": "python"
  }
 },
 "nbformat": 4,
 "nbformat_minor": 2
}
