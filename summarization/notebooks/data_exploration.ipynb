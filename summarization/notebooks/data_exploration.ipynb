{
 "cells": [
  {
   "cell_type": "code",
   "execution_count": null,
   "metadata": {
    "vscode": {
     "languageId": "plaintext"
    }
   },
   "outputs": [],
   "source": [
    "#default testing commit\n",
    "# Import required libraries\n",
    "import sys\n",
    "import os\n",
    "import pandas as pd\n",
    "import numpy as np\n",
    "import matplotlib.pyplot as plt\n",
    "import seaborn as sns\n",
    "\n",
    "# Add project root to Python path\n",
    "project_root = os.path.abspath(os.path.join(os.path.dirname(__file__), '..'))\n",
    "sys.path.insert(0, project_root)\n",
    "\n",
    "from src.data_processor import DocumentationDataProcessor\n",
    "\n",
    "# Initialize Data Processor\n",
    "data_processor = DocumentationDataProcessor()\n",
    "\n",
    "# Prepare Training Data\n",
    "df = data_processor.prepare_training_data()\n",
    "\n",
    "# Calculate Text Metrics\n",
    "df['text_length'] = df['text'].str.len()\n",
    "df['summary_length'] = df['summary'].str.len()\n",
    "df['compression_ratio'] = df['summary_length'] / df['text_length']\n",
    "\n",
    "# Descriptive Statistics\n",
    "print(\"Dataset Overview:\")\n",
    "print(df.info())\n",
    "\n",
    "print(\"\\nText Length Statistics:\")\n",
    "print(df['text_length'].describe())\n",
    "\n",
    "print(\"\\nSummary Length Statistics:\")\n",
    "print(df['summary_length'].describe())\n",
    "\n",
    "# Visualization\n",
    "plt.figure(figsize=(15, 5))\n",
    "\n",
    "# Text Length Distribution\n",
    "plt.subplot(1, 3, 1)\n",
    "sns.histplot(df['text_length'], kde=True)\n",
    "plt.title('Text Length Distribution')\n",
    "plt.xlabel('Text Length')\n",
    "\n",
    "# Summary Length Distribution\n",
    "plt.subplot(1, 3, 2)\n",
    "sns.histplot(df['summary_length'], kde=True)\n",
    "plt.title('Summary Length Distribution')\n",
    "plt.xlabel('Summary Length')\n",
    "\n",
    "# Compression Ratio Distribution\n",
    "plt.subplot(1, 3, 3)\n",
    "sns.histplot(df['compression_ratio'], kde=True)\n",
    "plt.title('Compression Ratio Distribution')\n",
    "plt.xlabel('Compression Ratio')\n",
    "\n",
    "plt.tight_layout()\n",
    "plt.show()\n",
    "\n",
    "# Correlation Analysis\n",
    "correlation_matrix = df[['text_length', 'summary_length', 'compression_ratio']].corr()\n",
    "print(\"\\nCorrelation Matrix:\")\n",
    "print(correlation_matrix)"
   ]
  },
  {
   "cell_type": "markdown",
   "metadata": {},
   "source": [
    "# Data Exploration Notebook\n",
    "\n",
    "## Overview\n",
    "This notebook provides a comprehensive exploration of the documentation dataset used for the Summarization AI project.\n",
    "\n",
    "## Key Analysis Objectives\n",
    "- Understand dataset characteristics\n",
    "- Visualize text and summary distributions\n",
    "- Identify key patterns in documentation"
   ]
  }
 ],
 "metadata": {
  "language_info": {
   "name": "python"
  }
 },
 "nbformat": 4,
 "nbformat_minor": 2
}
